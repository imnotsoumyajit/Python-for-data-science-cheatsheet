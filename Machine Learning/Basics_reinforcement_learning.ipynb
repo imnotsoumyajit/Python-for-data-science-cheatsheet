{
 "cells": [
  {
   "cell_type": "code",
   "execution_count": 2,
   "id": "0bf93127-c27d-443d-a39a-6f017455d464",
   "metadata": {
    "scrolled": true,
    "tags": []
   },
   "outputs": [
    {
     "name": "stdout",
     "output_type": "stream",
     "text": [
      "Requirement already satisfied: stable-baselines3[extra] in c:\\users\\soumyajit mondal\\appdata\\local\\programs\\python\\python310\\lib\\site-packages (1.7.0)\n",
      "Requirement already satisfied: importlib-metadata~=4.13 in c:\\users\\soumyajit mondal\\appdata\\local\\programs\\python\\python310\\lib\\site-packages (from stable-baselines3[extra]) (4.13.0)\n",
      "Requirement already satisfied: pandas in c:\\users\\soumyajit mondal\\appdata\\local\\programs\\python\\python310\\lib\\site-packages (from stable-baselines3[extra]) (1.5.3)\n",
      "Requirement already satisfied: gym==0.21 in c:\\users\\soumyajit mondal\\appdata\\local\\programs\\python\\python310\\lib\\site-packages (from stable-baselines3[extra]) (0.21.0)\n",
      "Requirement already satisfied: cloudpickle in c:\\users\\soumyajit mondal\\appdata\\local\\programs\\python\\python310\\lib\\site-packages (from stable-baselines3[extra]) (2.2.1)\n",
      "Requirement already satisfied: numpy in c:\\users\\soumyajit mondal\\appdata\\local\\programs\\python\\python310\\lib\\site-packages (from stable-baselines3[extra]) (1.23.2)\n",
      "Requirement already satisfied: matplotlib in c:\\users\\soumyajit mondal\\appdata\\local\\programs\\python\\python310\\lib\\site-packages (from stable-baselines3[extra]) (3.5.3)\n",
      "Requirement already satisfied: torch>=1.11 in c:\\users\\soumyajit mondal\\appdata\\local\\programs\\python\\python310\\lib\\site-packages (from stable-baselines3[extra]) (2.0.0)\n",
      "Requirement already satisfied: autorom[accept-rom-license]~=0.4.2 in c:\\users\\soumyajit mondal\\appdata\\local\\programs\\python\\python310\\lib\\site-packages (from stable-baselines3[extra]) (0.4.2)\n",
      "Requirement already satisfied: pillow in c:\\users\\soumyajit mondal\\appdata\\local\\programs\\python\\python310\\lib\\site-packages (from stable-baselines3[extra]) (9.2.0)\n",
      "Requirement already satisfied: rich in c:\\users\\soumyajit mondal\\appdata\\local\\programs\\python\\python310\\lib\\site-packages (from stable-baselines3[extra]) (13.3.3)\n",
      "Requirement already satisfied: opencv-python in c:\\users\\soumyajit mondal\\appdata\\local\\programs\\python\\python310\\lib\\site-packages (from stable-baselines3[extra]) (4.7.0.72)\n",
      "Requirement already satisfied: tqdm in c:\\users\\soumyajit mondal\\appdata\\local\\programs\\python\\python310\\lib\\site-packages (from stable-baselines3[extra]) (4.65.0)\n",
      "Requirement already satisfied: ale-py==0.7.4 in c:\\users\\soumyajit mondal\\appdata\\local\\programs\\python\\python310\\lib\\site-packages (from stable-baselines3[extra]) (0.7.4)\n",
      "Requirement already satisfied: psutil in c:\\users\\soumyajit mondal\\appdata\\local\\programs\\python\\python310\\lib\\site-packages (from stable-baselines3[extra]) (5.9.4)\n",
      "Requirement already satisfied: tensorboard>=2.9.1 in c:\\users\\soumyajit mondal\\appdata\\local\\programs\\python\\python310\\lib\\site-packages (from stable-baselines3[extra]) (2.12.1)\n",
      "Requirement already satisfied: importlib-resources in c:\\users\\soumyajit mondal\\appdata\\local\\programs\\python\\python310\\lib\\site-packages (from ale-py==0.7.4->stable-baselines3[extra]) (5.12.0)\n",
      "Requirement already satisfied: click in c:\\users\\soumyajit mondal\\appdata\\local\\programs\\python\\python310\\lib\\site-packages (from autorom[accept-rom-license]~=0.4.2->stable-baselines3[extra]) (8.1.3)\n",
      "Requirement already satisfied: requests in c:\\users\\soumyajit mondal\\appdata\\local\\programs\\python\\python310\\lib\\site-packages (from autorom[accept-rom-license]~=0.4.2->stable-baselines3[extra]) (2.28.2)\n",
      "Requirement already satisfied: AutoROM.accept-rom-license in c:\\users\\soumyajit mondal\\appdata\\local\\programs\\python\\python310\\lib\\site-packages (from autorom[accept-rom-license]~=0.4.2->stable-baselines3[extra]) (0.6.0)\n",
      "Requirement already satisfied: zipp>=0.5 in c:\\users\\soumyajit mondal\\appdata\\local\\programs\\python\\python310\\lib\\site-packages (from importlib-metadata~=4.13->stable-baselines3[extra]) (3.15.0)\n",
      "Requirement already satisfied: tensorboard-data-server<0.8.0,>=0.7.0 in c:\\users\\soumyajit mondal\\appdata\\local\\programs\\python\\python310\\lib\\site-packages (from tensorboard>=2.9.1->stable-baselines3[extra]) (0.7.0)\n",
      "Requirement already satisfied: absl-py>=0.4 in c:\\users\\soumyajit mondal\\appdata\\local\\programs\\python\\python310\\lib\\site-packages (from tensorboard>=2.9.1->stable-baselines3[extra]) (1.4.0)\n",
      "Requirement already satisfied: werkzeug>=1.0.1 in c:\\users\\soumyajit mondal\\appdata\\local\\programs\\python\\python310\\lib\\site-packages (from tensorboard>=2.9.1->stable-baselines3[extra]) (2.2.3)\n",
      "Requirement already satisfied: tensorboard-plugin-wit>=1.6.0 in c:\\users\\soumyajit mondal\\appdata\\local\\programs\\python\\python310\\lib\\site-packages (from tensorboard>=2.9.1->stable-baselines3[extra]) (1.8.1)\n",
      "Requirement already satisfied: google-auth<3,>=1.6.3 in c:\\users\\soumyajit mondal\\appdata\\local\\programs\\python\\python310\\lib\\site-packages (from tensorboard>=2.9.1->stable-baselines3[extra]) (2.17.1)\n",
      "Requirement already satisfied: setuptools>=41.0.0 in c:\\users\\soumyajit mondal\\appdata\\local\\programs\\python\\python310\\lib\\site-packages (from tensorboard>=2.9.1->stable-baselines3[extra]) (65.5.0)\n",
      "Requirement already satisfied: google-auth-oauthlib<1.1,>=0.5 in c:\\users\\soumyajit mondal\\appdata\\local\\programs\\python\\python310\\lib\\site-packages (from tensorboard>=2.9.1->stable-baselines3[extra]) (1.0.0)\n",
      "Requirement already satisfied: markdown>=2.6.8 in c:\\users\\soumyajit mondal\\appdata\\local\\programs\\python\\python310\\lib\\site-packages (from tensorboard>=2.9.1->stable-baselines3[extra]) (3.4.3)\n",
      "Requirement already satisfied: protobuf>=3.19.6 in c:\\users\\soumyajit mondal\\appdata\\local\\programs\\python\\python310\\lib\\site-packages (from tensorboard>=2.9.1->stable-baselines3[extra]) (4.22.1)\n",
      "Requirement already satisfied: wheel>=0.26 in c:\\users\\soumyajit mondal\\appdata\\local\\programs\\python\\python310\\lib\\site-packages (from tensorboard>=2.9.1->stable-baselines3[extra]) (0.40.0)\n",
      "Requirement already satisfied: grpcio>=1.48.2 in c:\\users\\soumyajit mondal\\appdata\\local\\programs\\python\\python310\\lib\\site-packages (from tensorboard>=2.9.1->stable-baselines3[extra]) (1.53.0)\n",
      "Requirement already satisfied: filelock in c:\\users\\soumyajit mondal\\appdata\\local\\programs\\python\\python310\\lib\\site-packages (from torch>=1.11->stable-baselines3[extra]) (3.10.7)\n",
      "Requirement already satisfied: sympy in c:\\users\\soumyajit mondal\\appdata\\local\\programs\\python\\python310\\lib\\site-packages (from torch>=1.11->stable-baselines3[extra]) (1.11.1)\n",
      "Requirement already satisfied: networkx in c:\\users\\soumyajit mondal\\appdata\\local\\programs\\python\\python310\\lib\\site-packages (from torch>=1.11->stable-baselines3[extra]) (3.0)\n",
      "Requirement already satisfied: typing-extensions in c:\\users\\soumyajit mondal\\appdata\\local\\programs\\python\\python310\\lib\\site-packages (from torch>=1.11->stable-baselines3[extra]) (4.5.0)\n",
      "Requirement already satisfied: jinja2 in c:\\users\\soumyajit mondal\\appdata\\local\\programs\\python\\python310\\lib\\site-packages (from torch>=1.11->stable-baselines3[extra]) (3.1.2)\n",
      "Requirement already satisfied: kiwisolver>=1.0.1 in c:\\users\\soumyajit mondal\\appdata\\local\\programs\\python\\python310\\lib\\site-packages (from matplotlib->stable-baselines3[extra]) (1.4.4)\n",
      "Requirement already satisfied: fonttools>=4.22.0 in c:\\users\\soumyajit mondal\\appdata\\local\\programs\\python\\python310\\lib\\site-packages (from matplotlib->stable-baselines3[extra]) (4.37.1)\n",
      "Requirement already satisfied: cycler>=0.10 in c:\\users\\soumyajit mondal\\appdata\\local\\programs\\python\\python310\\lib\\site-packages (from matplotlib->stable-baselines3[extra]) (0.11.0)\n",
      "Requirement already satisfied: pyparsing>=2.2.1 in c:\\users\\soumyajit mondal\\appdata\\local\\programs\\python\\python310\\lib\\site-packages (from matplotlib->stable-baselines3[extra]) (3.0.9)\n",
      "Requirement already satisfied: packaging>=20.0 in c:\\users\\soumyajit mondal\\appdata\\local\\programs\\python\\python310\\lib\\site-packages (from matplotlib->stable-baselines3[extra]) (21.3)\n",
      "Requirement already satisfied: python-dateutil>=2.7 in c:\\users\\soumyajit mondal\\appdata\\local\\programs\\python\\python310\\lib\\site-packages (from matplotlib->stable-baselines3[extra]) (2.8.2)\n",
      "Requirement already satisfied: pytz>=2020.1 in c:\\users\\soumyajit mondal\\appdata\\local\\programs\\python\\python310\\lib\\site-packages (from pandas->stable-baselines3[extra]) (2023.3)\n",
      "Requirement already satisfied: pygments<3.0.0,>=2.13.0 in c:\\users\\soumyajit mondal\\appdata\\local\\programs\\python\\python310\\lib\\site-packages (from rich->stable-baselines3[extra]) (2.14.0)\n",
      "Requirement already satisfied: markdown-it-py<3.0.0,>=2.2.0 in c:\\users\\soumyajit mondal\\appdata\\local\\programs\\python\\python310\\lib\\site-packages (from rich->stable-baselines3[extra]) (2.2.0)\n",
      "Requirement already satisfied: colorama in c:\\users\\soumyajit mondal\\appdata\\local\\programs\\python\\python310\\lib\\site-packages (from tqdm->stable-baselines3[extra]) (0.4.6)\n",
      "Requirement already satisfied: six>=1.9.0 in c:\\users\\soumyajit mondal\\appdata\\local\\programs\\python\\python310\\lib\\site-packages (from google-auth<3,>=1.6.3->tensorboard>=2.9.1->stable-baselines3[extra]) (1.16.0)\n",
      "Requirement already satisfied: rsa<5,>=3.1.4 in c:\\users\\soumyajit mondal\\appdata\\local\\programs\\python\\python310\\lib\\site-packages (from google-auth<3,>=1.6.3->tensorboard>=2.9.1->stable-baselines3[extra]) (4.9)\n",
      "Requirement already satisfied: cachetools<6.0,>=2.0.0 in c:\\users\\soumyajit mondal\\appdata\\local\\programs\\python\\python310\\lib\\site-packages (from google-auth<3,>=1.6.3->tensorboard>=2.9.1->stable-baselines3[extra]) (5.3.0)\n",
      "Requirement already satisfied: pyasn1-modules>=0.2.1 in c:\\users\\soumyajit mondal\\appdata\\local\\programs\\python\\python310\\lib\\site-packages (from google-auth<3,>=1.6.3->tensorboard>=2.9.1->stable-baselines3[extra]) (0.2.8)\n",
      "Requirement already satisfied: requests-oauthlib>=0.7.0 in c:\\users\\soumyajit mondal\\appdata\\local\\programs\\python\\python310\\lib\\site-packages (from google-auth-oauthlib<1.1,>=0.5->tensorboard>=2.9.1->stable-baselines3[extra]) (1.3.1)\n",
      "Requirement already satisfied: mdurl~=0.1 in c:\\users\\soumyajit mondal\\appdata\\local\\programs\\python\\python310\\lib\\site-packages (from markdown-it-py<3.0.0,>=2.2.0->rich->stable-baselines3[extra]) (0.1.2)\n",
      "Requirement already satisfied: charset-normalizer<4,>=2 in c:\\users\\soumyajit mondal\\appdata\\local\\programs\\python\\python310\\lib\\site-packages (from requests->autorom[accept-rom-license]~=0.4.2->stable-baselines3[extra]) (3.1.0)\n",
      "Requirement already satisfied: urllib3<1.27,>=1.21.1 in c:\\users\\soumyajit mondal\\appdata\\local\\programs\\python\\python310\\lib\\site-packages (from requests->autorom[accept-rom-license]~=0.4.2->stable-baselines3[extra]) (1.26.15)\n",
      "Requirement already satisfied: certifi>=2017.4.17 in c:\\users\\soumyajit mondal\\appdata\\local\\programs\\python\\python310\\lib\\site-packages (from requests->autorom[accept-rom-license]~=0.4.2->stable-baselines3[extra]) (2022.12.7)\n",
      "Requirement already satisfied: idna<4,>=2.5 in c:\\users\\soumyajit mondal\\appdata\\local\\programs\\python\\python310\\lib\\site-packages (from requests->autorom[accept-rom-license]~=0.4.2->stable-baselines3[extra]) (3.4)\n",
      "Requirement already satisfied: MarkupSafe>=2.1.1 in c:\\users\\soumyajit mondal\\appdata\\local\\programs\\python\\python310\\lib\\site-packages (from werkzeug>=1.0.1->tensorboard>=2.9.1->stable-baselines3[extra]) (2.1.2)\n",
      "Requirement already satisfied: libtorrent in c:\\users\\soumyajit mondal\\appdata\\local\\programs\\python\\python310\\lib\\site-packages (from AutoROM.accept-rom-license->autorom[accept-rom-license]~=0.4.2->stable-baselines3[extra]) (2.0.7)\n",
      "Requirement already satisfied: mpmath>=0.19 in c:\\users\\soumyajit mondal\\appdata\\local\\programs\\python\\python310\\lib\\site-packages (from sympy->torch>=1.11->stable-baselines3[extra]) (1.3.0)\n",
      "Requirement already satisfied: pyasn1<0.5.0,>=0.4.6 in c:\\users\\soumyajit mondal\\appdata\\local\\programs\\python\\python310\\lib\\site-packages (from pyasn1-modules>=0.2.1->google-auth<3,>=1.6.3->tensorboard>=2.9.1->stable-baselines3[extra]) (0.4.8)\n",
      "Requirement already satisfied: oauthlib>=3.0.0 in c:\\users\\soumyajit mondal\\appdata\\local\\programs\\python\\python310\\lib\\site-packages (from requests-oauthlib>=0.7.0->google-auth-oauthlib<1.1,>=0.5->tensorboard>=2.9.1->stable-baselines3[extra]) (3.2.2)\n"
     ]
    }
   ],
   "source": [
    "!pip install stable-baselines3[extra]"
   ]
  },
  {
   "cell_type": "code",
   "execution_count": 1,
   "id": "3e443ebd-62ec-416b-9ec5-4b17e6564be1",
   "metadata": {
    "scrolled": true,
    "tags": []
   },
   "outputs": [
    {
     "name": "stdout",
     "output_type": "stream",
     "text": [
      "Requirement already satisfied: stable-baselines3 in c:\\users\\soumyajit mondal\\appdata\\local\\programs\\python\\python310\\lib\\site-packages (1.7.0)\n",
      "Requirement already satisfied: numpy in c:\\users\\soumyajit mondal\\appdata\\local\\programs\\python\\python310\\lib\\site-packages (from stable-baselines3) (1.23.2)\n",
      "Requirement already satisfied: torch>=1.11 in c:\\users\\soumyajit mondal\\appdata\\local\\programs\\python\\python310\\lib\\site-packages (from stable-baselines3) (2.0.0)\n",
      "Requirement already satisfied: matplotlib in c:\\users\\soumyajit mondal\\appdata\\local\\programs\\python\\python310\\lib\\site-packages (from stable-baselines3) (3.5.3)\n",
      "Requirement already satisfied: importlib-metadata~=4.13 in c:\\users\\soumyajit mondal\\appdata\\local\\programs\\python\\python310\\lib\\site-packages (from stable-baselines3) (4.13.0)\n",
      "Requirement already satisfied: gym==0.21 in c:\\users\\soumyajit mondal\\appdata\\local\\programs\\python\\python310\\lib\\site-packages (from stable-baselines3) (0.21.0)\n",
      "Requirement already satisfied: cloudpickle in c:\\users\\soumyajit mondal\\appdata\\local\\programs\\python\\python310\\lib\\site-packages (from stable-baselines3) (2.2.1)\n",
      "Requirement already satisfied: pandas in c:\\users\\soumyajit mondal\\appdata\\local\\programs\\python\\python310\\lib\\site-packages (from stable-baselines3) (1.5.3)\n",
      "Requirement already satisfied: zipp>=0.5 in c:\\users\\soumyajit mondal\\appdata\\local\\programs\\python\\python310\\lib\\site-packages (from importlib-metadata~=4.13->stable-baselines3) (3.15.0)\n",
      "Requirement already satisfied: networkx in c:\\users\\soumyajit mondal\\appdata\\local\\programs\\python\\python310\\lib\\site-packages (from torch>=1.11->stable-baselines3) (3.0)\n",
      "Requirement already satisfied: jinja2 in c:\\users\\soumyajit mondal\\appdata\\local\\programs\\python\\python310\\lib\\site-packages (from torch>=1.11->stable-baselines3) (3.1.2)\n",
      "Requirement already satisfied: filelock in c:\\users\\soumyajit mondal\\appdata\\local\\programs\\python\\python310\\lib\\site-packages (from torch>=1.11->stable-baselines3) (3.10.7)\n",
      "Requirement already satisfied: sympy in c:\\users\\soumyajit mondal\\appdata\\local\\programs\\python\\python310\\lib\\site-packages (from torch>=1.11->stable-baselines3) (1.11.1)\n",
      "Requirement already satisfied: typing-extensions in c:\\users\\soumyajit mondal\\appdata\\local\\programs\\python\\python310\\lib\\site-packages (from torch>=1.11->stable-baselines3) (4.5.0)\n",
      "Requirement already satisfied: cycler>=0.10 in c:\\users\\soumyajit mondal\\appdata\\local\\programs\\python\\python310\\lib\\site-packages (from matplotlib->stable-baselines3) (0.11.0)\n",
      "Requirement already satisfied: python-dateutil>=2.7 in c:\\users\\soumyajit mondal\\appdata\\local\\programs\\python\\python310\\lib\\site-packages (from matplotlib->stable-baselines3) (2.8.2)\n",
      "Requirement already satisfied: fonttools>=4.22.0 in c:\\users\\soumyajit mondal\\appdata\\local\\programs\\python\\python310\\lib\\site-packages (from matplotlib->stable-baselines3) (4.37.1)\n",
      "Requirement already satisfied: kiwisolver>=1.0.1 in c:\\users\\soumyajit mondal\\appdata\\local\\programs\\python\\python310\\lib\\site-packages (from matplotlib->stable-baselines3) (1.4.4)\n",
      "Requirement already satisfied: packaging>=20.0 in c:\\users\\soumyajit mondal\\appdata\\local\\programs\\python\\python310\\lib\\site-packages (from matplotlib->stable-baselines3) (21.3)\n",
      "Requirement already satisfied: pyparsing>=2.2.1 in c:\\users\\soumyajit mondal\\appdata\\local\\programs\\python\\python310\\lib\\site-packages (from matplotlib->stable-baselines3) (3.0.9)\n",
      "Requirement already satisfied: pillow>=6.2.0 in c:\\users\\soumyajit mondal\\appdata\\local\\programs\\python\\python310\\lib\\site-packages (from matplotlib->stable-baselines3) (9.2.0)\n",
      "Requirement already satisfied: pytz>=2020.1 in c:\\users\\soumyajit mondal\\appdata\\local\\programs\\python\\python310\\lib\\site-packages (from pandas->stable-baselines3) (2023.3)\n",
      "Requirement already satisfied: six>=1.5 in c:\\users\\soumyajit mondal\\appdata\\local\\programs\\python\\python310\\lib\\site-packages (from python-dateutil>=2.7->matplotlib->stable-baselines3) (1.16.0)\n",
      "Requirement already satisfied: MarkupSafe>=2.0 in c:\\users\\soumyajit mondal\\appdata\\local\\programs\\python\\python310\\lib\\site-packages (from jinja2->torch>=1.11->stable-baselines3) (2.1.2)\n",
      "Requirement already satisfied: mpmath>=0.19 in c:\\users\\soumyajit mondal\\appdata\\local\\programs\\python\\python310\\lib\\site-packages (from sympy->torch>=1.11->stable-baselines3) (1.3.0)\n"
     ]
    }
   ],
   "source": [
    "!pip install stable-baselines3"
   ]
  },
  {
   "cell_type": "code",
   "execution_count": 4,
   "id": "86557a9d-1763-4d46-b608-fe48b445eba5",
   "metadata": {
    "tags": []
   },
   "outputs": [
    {
     "name": "stdout",
     "output_type": "stream",
     "text": [
      "Collecting pyglet==1.5.27\n",
      "  Using cached pyglet-1.5.27-py3-none-any.whl (1.1 MB)\n",
      "Installing collected packages: pyglet\n",
      "Successfully installed pyglet-1.5.27\n"
     ]
    }
   ],
   "source": [
    "!pip install pyglet==1.5.27"
   ]
  },
  {
   "cell_type": "code",
   "execution_count": 5,
   "id": "cf2cf0db-dcfd-4b92-ad9f-7993e9d9b4c3",
   "metadata": {
    "tags": []
   },
   "outputs": [
    {
     "name": "stdout",
     "output_type": "stream",
     "text": [
      "Requirement already satisfied: pyglet in c:\\users\\soumyajit mondal\\appdata\\local\\programs\\python\\python310\\lib\\site-packages (1.5.27)\n"
     ]
    }
   ],
   "source": [
    "!pip install pyglet"
   ]
  },
  {
   "cell_type": "markdown",
   "id": "b3002f58-5c85-49c7-9a2b-5018d78ea658",
   "metadata": {},
   "source": [
    "ref :https://gymnasium.farama.org/environments , \n",
    "https://gymnasium.farama.org/environments/atari/"
   ]
  },
  {
   "cell_type": "markdown",
   "id": "6680b233-0ee4-4807-b5f5-5463726c8d61",
   "metadata": {},
   "source": [
    "## import dependencies"
   ]
  },
  {
   "cell_type": "code",
   "execution_count": 2,
   "id": "0c74a80a-9fc6-4202-819d-c110b082e307",
   "metadata": {
    "tags": []
   },
   "outputs": [],
   "source": [
    "import os\n",
    "import gym\n",
    "import stable_baselines3\n",
    "from stable_baselines3 import PPO\n",
    "from stable_baselines3.common.vec_env import DummyVecEnv\n",
    "from stable_baselines3.common.evaluation import evaluate_policy"
   ]
  },
  {
   "cell_type": "markdown",
   "id": "183efb93-0ab5-4480-8045-25492dfe003a",
   "metadata": {},
   "source": [
    "## load the environment"
   ]
  },
  {
   "cell_type": "markdown",
   "id": "d814a5d5-10a4-428d-8bfe-57230c535b64",
   "metadata": {},
   "source": [
    "https://gymnasium.farama.org/environments/classic_control/cart_pole/"
   ]
  },
  {
   "cell_type": "code",
   "execution_count": 3,
   "id": "1522cc72-6a3a-45bf-b46a-2c8d1342aa5c",
   "metadata": {
    "tags": []
   },
   "outputs": [],
   "source": [
    "env_name='CartPole-v0'\n",
    "env=gym.make(env_name)"
   ]
  },
  {
   "cell_type": "code",
   "execution_count": 20,
   "id": "b7d678c4-b799-4567-86f3-b2c112cca4f1",
   "metadata": {
    "tags": []
   },
   "outputs": [
    {
     "name": "stdout",
     "output_type": "stream",
     "text": [
      "Episode:1 Score:20.0\n",
      "Episode:2 Score:21.0\n",
      "Episode:3 Score:11.0\n",
      "Episode:4 Score:17.0\n",
      "Episode:5 Score:19.0\n"
     ]
    }
   ],
   "source": [
    "# we loop 5 times\n",
    "episodes = 5\n",
    "for episode in range(1, episodes+1):\n",
    "    state = env.reset()\n",
    "    done = False\n",
    "    score = 0 \n",
    "    \n",
    "    while not done:\n",
    "        env.render()\n",
    "        action = env.action_space.sample()\n",
    "        n_state, reward, done, info = env.step(action)\n",
    "        score+=reward\n",
    "    print('Episode:{} Score:{}'.format(episode, score))\n",
    "# env.close()"
   ]
  },
  {
   "cell_type": "code",
   "execution_count": 21,
   "id": "9979221f-f061-44f8-814a-f761741d57b6",
   "metadata": {
    "tags": []
   },
   "outputs": [],
   "source": [
    "env.close()"
   ]
  },
  {
   "cell_type": "markdown",
   "id": "1cfe14a9-5a3d-4965-9b63-80f3510abd7e",
   "metadata": {},
   "source": [
    "### Understand the environment"
   ]
  },
  {
   "cell_type": "markdown",
   "id": "1e47880e-7026-4b98-8e83-3ce6d7fdb679",
   "metadata": {},
   "source": [
    "ref :https://github.com/openai/gym/blob/master/gym/envs/classic_control/cartpole.py"
   ]
  },
  {
   "cell_type": "code",
   "execution_count": null,
   "id": "1148ad34-7bad-4085-a1ea-e1ca1760322b",
   "metadata": {
    "tags": []
   },
   "outputs": [],
   "source": [
    "env.step(1)"
   ]
  },
  {
   "cell_type": "code",
   "execution_count": null,
   "id": "c091354d-d4d0-4742-854c-a1e69f8529cf",
   "metadata": {},
   "outputs": [],
   "source": [
    "env.reset()\n",
    "# get our initial set of observations"
   ]
  },
  {
   "cell_type": "code",
   "execution_count": null,
   "id": "29559f00-d348-4e35-b156-71e2cf19faf4",
   "metadata": {
    "tags": []
   },
   "outputs": [],
   "source": [
    "env.action_space"
   ]
  },
  {
   "cell_type": "code",
   "execution_count": null,
   "id": "99ac1619-5d02-4801-86bf-27c22d6f5a05",
   "metadata": {
    "tags": []
   },
   "outputs": [],
   "source": [
    "env.observation_space"
   ]
  },
  {
   "cell_type": "code",
   "execution_count": null,
   "id": "1e2a2edb-0d0e-43a7-a92e-4b1f92365cef",
   "metadata": {
    "tags": []
   },
   "outputs": [],
   "source": [
    "env.action_space.sample()\n",
    "# either 0 or 1"
   ]
  },
  {
   "cell_type": "code",
   "execution_count": null,
   "id": "1b26ed30-3dfc-4014-84bb-8a05edc2f695",
   "metadata": {
    "tags": []
   },
   "outputs": [],
   "source": [
    "env.action_space"
   ]
  },
  {
   "cell_type": "code",
   "execution_count": null,
   "id": "a9052ce8-7198-43e2-9a9e-2867f6b0db7c",
   "metadata": {},
   "outputs": [],
   "source": []
  },
  {
   "cell_type": "markdown",
   "id": "6183e3ea-45fb-4e39-bf20-b8481637e77b",
   "metadata": {},
   "source": [
    "## train a reinforcement learning model"
   ]
  },
  {
   "cell_type": "code",
   "execution_count": 4,
   "id": "2d450b0a-b08d-4092-89d6-350f7b4dba61",
   "metadata": {},
   "outputs": [],
   "source": [
    "# where we save our tensorboard log\n",
    "log_path=os.path.join('Training','Logs')\n",
    "# log_path"
   ]
  },
  {
   "cell_type": "code",
   "execution_count": 5,
   "id": "a78050bc-1bd5-4452-816e-5863a3f6f7ea",
   "metadata": {
    "tags": []
   },
   "outputs": [
    {
     "name": "stdout",
     "output_type": "stream",
     "text": [
      "Using cpu device\n"
     ]
    }
   ],
   "source": [
    "env=gym.make(env_name)\n",
    "env=DummyVecEnv([lambda:env])\n",
    "model=PPO('MlpPolicy',env,verbose=1,tensorboard_log=log_path)\n",
    "# mlp : multi layer perceptron"
   ]
  },
  {
   "cell_type": "code",
   "execution_count": 24,
   "id": "2fb99a7b-f45d-4f74-afe5-b4689760dc89",
   "metadata": {
    "scrolled": true,
    "tags": []
   },
   "outputs": [
    {
     "name": "stdout",
     "output_type": "stream",
     "text": [
      "Logging to Training\\Logs\\PPO_3\n",
      "-----------------------------\n",
      "| time/              |      |\n",
      "|    fps             | 1042 |\n",
      "|    iterations      | 1    |\n",
      "|    time_elapsed    | 1    |\n",
      "|    total_timesteps | 2048 |\n",
      "-----------------------------\n",
      "-----------------------------------------\n",
      "| time/                   |             |\n",
      "|    fps                  | 682         |\n",
      "|    iterations           | 2           |\n",
      "|    time_elapsed         | 6           |\n",
      "|    total_timesteps      | 4096        |\n",
      "| train/                  |             |\n",
      "|    approx_kl            | 0.009759737 |\n",
      "|    clip_fraction        | 0.125       |\n",
      "|    clip_range           | 0.2         |\n",
      "|    entropy_loss         | -0.685      |\n",
      "|    explained_variance   | -0.00112    |\n",
      "|    learning_rate        | 0.0003      |\n",
      "|    loss                 | 6.87        |\n",
      "|    n_updates            | 10          |\n",
      "|    policy_gradient_loss | -0.0193     |\n",
      "|    value_loss           | 47.3        |\n",
      "-----------------------------------------\n",
      "-----------------------------------------\n",
      "| time/                   |             |\n",
      "|    fps                  | 618         |\n",
      "|    iterations           | 3           |\n",
      "|    time_elapsed         | 9           |\n",
      "|    total_timesteps      | 6144        |\n",
      "| train/                  |             |\n",
      "|    approx_kl            | 0.008309215 |\n",
      "|    clip_fraction        | 0.0518      |\n",
      "|    clip_range           | 0.2         |\n",
      "|    entropy_loss         | -0.668      |\n",
      "|    explained_variance   | 0.0975      |\n",
      "|    learning_rate        | 0.0003      |\n",
      "|    loss                 | 11.5        |\n",
      "|    n_updates            | 20          |\n",
      "|    policy_gradient_loss | -0.0131     |\n",
      "|    value_loss           | 29.7        |\n",
      "-----------------------------------------\n",
      "-----------------------------------------\n",
      "| time/                   |             |\n",
      "|    fps                  | 596         |\n",
      "|    iterations           | 4           |\n",
      "|    time_elapsed         | 13          |\n",
      "|    total_timesteps      | 8192        |\n",
      "| train/                  |             |\n",
      "|    approx_kl            | 0.009158503 |\n",
      "|    clip_fraction        | 0.102       |\n",
      "|    clip_range           | 0.2         |\n",
      "|    entropy_loss         | -0.636      |\n",
      "|    explained_variance   | 0.241       |\n",
      "|    learning_rate        | 0.0003      |\n",
      "|    loss                 | 20.9        |\n",
      "|    n_updates            | 30          |\n",
      "|    policy_gradient_loss | -0.0195     |\n",
      "|    value_loss           | 48.1        |\n",
      "-----------------------------------------\n",
      "----------------------------------------\n",
      "| time/                   |            |\n",
      "|    fps                  | 578        |\n",
      "|    iterations           | 5          |\n",
      "|    time_elapsed         | 17         |\n",
      "|    total_timesteps      | 10240      |\n",
      "| train/                  |            |\n",
      "|    approx_kl            | 0.01040775 |\n",
      "|    clip_fraction        | 0.0993     |\n",
      "|    clip_range           | 0.2        |\n",
      "|    entropy_loss         | -0.609     |\n",
      "|    explained_variance   | 0.343      |\n",
      "|    learning_rate        | 0.0003     |\n",
      "|    loss                 | 16.7       |\n",
      "|    n_updates            | 40         |\n",
      "|    policy_gradient_loss | -0.0204    |\n",
      "|    value_loss           | 52.2       |\n",
      "----------------------------------------\n",
      "-----------------------------------------\n",
      "| time/                   |             |\n",
      "|    fps                  | 562         |\n",
      "|    iterations           | 6           |\n",
      "|    time_elapsed         | 21          |\n",
      "|    total_timesteps      | 12288       |\n",
      "| train/                  |             |\n",
      "|    approx_kl            | 0.009867264 |\n",
      "|    clip_fraction        | 0.116       |\n",
      "|    clip_range           | 0.2         |\n",
      "|    entropy_loss         | -0.595      |\n",
      "|    explained_variance   | 0.438       |\n",
      "|    learning_rate        | 0.0003      |\n",
      "|    loss                 | 18          |\n",
      "|    n_updates            | 50          |\n",
      "|    policy_gradient_loss | -0.0176     |\n",
      "|    value_loss           | 58.3        |\n",
      "-----------------------------------------\n",
      "-----------------------------------------\n",
      "| time/                   |             |\n",
      "|    fps                  | 557         |\n",
      "|    iterations           | 7           |\n",
      "|    time_elapsed         | 25          |\n",
      "|    total_timesteps      | 14336       |\n",
      "| train/                  |             |\n",
      "|    approx_kl            | 0.010909481 |\n",
      "|    clip_fraction        | 0.0549      |\n",
      "|    clip_range           | 0.2         |\n",
      "|    entropy_loss         | -0.584      |\n",
      "|    explained_variance   | 0.27        |\n",
      "|    learning_rate        | 0.0003      |\n",
      "|    loss                 | 8.33        |\n",
      "|    n_updates            | 60          |\n",
      "|    policy_gradient_loss | -0.00991    |\n",
      "|    value_loss           | 56.8        |\n",
      "-----------------------------------------\n",
      "------------------------------------------\n",
      "| time/                   |              |\n",
      "|    fps                  | 555          |\n",
      "|    iterations           | 8            |\n",
      "|    time_elapsed         | 29           |\n",
      "|    total_timesteps      | 16384        |\n",
      "| train/                  |              |\n",
      "|    approx_kl            | 0.0031751601 |\n",
      "|    clip_fraction        | 0.0159       |\n",
      "|    clip_range           | 0.2          |\n",
      "|    entropy_loss         | -0.581       |\n",
      "|    explained_variance   | 0.746        |\n",
      "|    learning_rate        | 0.0003       |\n",
      "|    loss                 | 9.26         |\n",
      "|    n_updates            | 70           |\n",
      "|    policy_gradient_loss | -0.00294     |\n",
      "|    value_loss           | 33.1         |\n",
      "------------------------------------------\n",
      "-----------------------------------------\n",
      "| time/                   |             |\n",
      "|    fps                  | 550         |\n",
      "|    iterations           | 9           |\n",
      "|    time_elapsed         | 33          |\n",
      "|    total_timesteps      | 18432       |\n",
      "| train/                  |             |\n",
      "|    approx_kl            | 0.005856868 |\n",
      "|    clip_fraction        | 0.024       |\n",
      "|    clip_range           | 0.2         |\n",
      "|    entropy_loss         | -0.562      |\n",
      "|    explained_variance   | 0.625       |\n",
      "|    learning_rate        | 0.0003      |\n",
      "|    loss                 | 18.4        |\n",
      "|    n_updates            | 80          |\n",
      "|    policy_gradient_loss | -0.00755    |\n",
      "|    value_loss           | 41.1        |\n",
      "-----------------------------------------\n",
      "------------------------------------------\n",
      "| time/                   |              |\n",
      "|    fps                  | 548          |\n",
      "|    iterations           | 10           |\n",
      "|    time_elapsed         | 37           |\n",
      "|    total_timesteps      | 20480        |\n",
      "| train/                  |              |\n",
      "|    approx_kl            | 0.0066821254 |\n",
      "|    clip_fraction        | 0.0186       |\n",
      "|    clip_range           | 0.2          |\n",
      "|    entropy_loss         | -0.558       |\n",
      "|    explained_variance   | 0.869        |\n",
      "|    learning_rate        | 0.0003       |\n",
      "|    loss                 | 0.775        |\n",
      "|    n_updates            | 90           |\n",
      "|    policy_gradient_loss | -0.00402     |\n",
      "|    value_loss           | 14.7         |\n",
      "------------------------------------------\n"
     ]
    },
    {
     "data": {
      "text/plain": [
       "<stable_baselines3.ppo.ppo.PPO at 0x1ff60f63070>"
      ]
     },
     "execution_count": 24,
     "metadata": {},
     "output_type": "execute_result"
    }
   ],
   "source": [
    "model.learn(total_timesteps=20000)"
   ]
  },
  {
   "cell_type": "code",
   "execution_count": null,
   "id": "b86ebd7d-95fa-41ae-bd05-86c4d5678caf",
   "metadata": {},
   "outputs": [],
   "source": []
  },
  {
   "cell_type": "markdown",
   "id": "bc3ff5f4-8b9d-46e8-acc5-f2d91dfd134f",
   "metadata": {},
   "source": [
    "## save and reload model"
   ]
  },
  {
   "cell_type": "code",
   "execution_count": 6,
   "id": "f0f768df-d98e-49b8-8534-51dd6f30aaee",
   "metadata": {},
   "outputs": [],
   "source": [
    "PPO_Path=os.path.join('Training','Saved Models','PPO_MODEL_Cartpole')"
   ]
  },
  {
   "cell_type": "code",
   "execution_count": 26,
   "id": "5ee77408-2dfb-442b-89f8-cc2ea744f9d3",
   "metadata": {},
   "outputs": [],
   "source": [
    "model.save(PPO_Path)"
   ]
  },
  {
   "cell_type": "code",
   "execution_count": 17,
   "id": "e9ffec13-99a9-4f78-a77d-16cf824a0405",
   "metadata": {
    "tags": []
   },
   "outputs": [
    {
     "data": {
      "text/plain": [
       "'Training\\\\Saved Models\\\\PPO_MODEL_Cartpole'"
      ]
     },
     "execution_count": 17,
     "metadata": {},
     "output_type": "execute_result"
    }
   ],
   "source": [
    "PPO_Path"
   ]
  },
  {
   "cell_type": "code",
   "execution_count": 12,
   "id": "e73e4624-2347-4e0e-866c-091ce346e53e",
   "metadata": {},
   "outputs": [],
   "source": [
    "del model"
   ]
  },
  {
   "cell_type": "code",
   "execution_count": 15,
   "id": "3ba9f085-eef5-4621-bc37-92e2fbaf22c0",
   "metadata": {
    "tags": []
   },
   "outputs": [
    {
     "name": "stdout",
     "output_type": "stream",
     "text": [
      "Logging to Training\\Logs\\PPO_2\n",
      "-----------------------------\n",
      "| time/              |      |\n",
      "|    fps             | 1031 |\n",
      "|    iterations      | 1    |\n",
      "|    time_elapsed    | 1    |\n",
      "|    total_timesteps | 2048 |\n",
      "-----------------------------\n"
     ]
    },
    {
     "data": {
      "text/plain": [
       "<stable_baselines3.ppo.ppo.PPO at 0x1ff60eff3a0>"
      ]
     },
     "execution_count": 15,
     "metadata": {},
     "output_type": "execute_result"
    }
   ],
   "source": [
    "model.learn(total_timesteps=1000)"
   ]
  },
  {
   "cell_type": "markdown",
   "id": "354b8687-1d37-45a5-8efa-f975510cd366",
   "metadata": {},
   "source": [
    "Loading model ref : https://stable-baselines3.readthedocs.io/en/master/modules/ppo.html"
   ]
  },
  {
   "cell_type": "code",
   "execution_count": 7,
   "id": "5a8377b3-f877-4bb3-8216-08d9bd05376e",
   "metadata": {
    "scrolled": true,
    "tags": []
   },
   "outputs": [],
   "source": [
    "model = PPO.load(PPO_Path,env=env)\n",
    "# NOT WORKING"
   ]
  },
  {
   "cell_type": "code",
   "execution_count": 11,
   "id": "8126ed1f-7383-4c89-ae48-4b558c7ae15b",
   "metadata": {},
   "outputs": [],
   "source": [
    "# model=PPO.load(os.path.join('Training','Saved Models','PPO_MODEL_Cartpole.zip'))"
   ]
  },
  {
   "cell_type": "markdown",
   "id": "1bde0436-4016-4eaa-99a1-ea10d6b6a173",
   "metadata": {},
   "source": [
    "## evaluation"
   ]
  },
  {
   "cell_type": "code",
   "execution_count": 28,
   "id": "33b2d106-453c-46bd-8cfb-c8bb37aa4a77",
   "metadata": {},
   "outputs": [
    {
     "data": {
      "text/plain": [
       "(200.0, 0.0)"
      ]
     },
     "execution_count": 28,
     "metadata": {},
     "output_type": "execute_result"
    }
   ],
   "source": [
    "evaluate_policy(model,env,n_eval_episodes=10,render=True)"
   ]
  },
  {
   "cell_type": "code",
   "execution_count": null,
   "id": "3b076e1d-27e8-4353-9800-906e2780295e",
   "metadata": {},
   "outputs": [],
   "source": [
    "env.close()"
   ]
  },
  {
   "cell_type": "code",
   "execution_count": null,
   "id": "9b22cd28-eaa7-471b-aea4-b820c934de5d",
   "metadata": {},
   "outputs": [],
   "source": []
  },
  {
   "cell_type": "markdown",
   "id": "9c20926c-ad22-4bf7-a649-11670c9b9859",
   "metadata": {
    "tags": []
   },
   "source": [
    "## test model"
   ]
  },
  {
   "cell_type": "code",
   "execution_count": 8,
   "id": "7fd6c55c-ca7e-4e25-962d-192dad27d60f",
   "metadata": {
    "tags": []
   },
   "outputs": [],
   "source": [
    "obs = env.reset()\n",
    "action,_=model.predict(obs)"
   ]
  },
  {
   "cell_type": "code",
   "execution_count": 9,
   "id": "57e167a6-7d8c-45ca-9b23-3bdbeabbb29f",
   "metadata": {
    "tags": []
   },
   "outputs": [
    {
     "data": {
      "text/plain": [
       "array([0], dtype=int64)"
      ]
     },
     "execution_count": 9,
     "metadata": {},
     "output_type": "execute_result"
    }
   ],
   "source": [
    "action"
   ]
  },
  {
   "cell_type": "markdown",
   "id": "2dfd6721-0ef7-4f34-8a07-02d5e04bf185",
   "metadata": {},
   "source": [
    "meaning of the observations : https://github.com/openai/gym/blob/master/gym/envs/classic_control/cartpole.py"
   ]
  },
  {
   "cell_type": "code",
   "execution_count": 12,
   "id": "ebe0be70-3d5c-4085-8cc3-502cd8ca23e6",
   "metadata": {
    "tags": []
   },
   "outputs": [
    {
     "data": {
      "text/plain": [
       "array([[ 0.00551797, -0.02888318,  0.04987972,  0.04531725]],\n",
       "      dtype=float32)"
      ]
     },
     "execution_count": 12,
     "metadata": {},
     "output_type": "execute_result"
    }
   ],
   "source": [
    "obs #observations"
   ]
  },
  {
   "cell_type": "code",
   "execution_count": 10,
   "id": "c36c79ab-9541-4472-b76a-279a40fd0587",
   "metadata": {},
   "outputs": [
    {
     "name": "stdout",
     "output_type": "stream",
     "text": [
      "Episode:1 Score:[200.]\n",
      "Episode:2 Score:[200.]\n",
      "Episode:3 Score:[200.]\n",
      "Episode:4 Score:[200.]\n",
      "Episode:5 Score:[200.]\n"
     ]
    }
   ],
   "source": [
    "# we loop 5 times\n",
    "episodes = 5\n",
    "for episode in range(1, episodes+1):\n",
    "    obs = env.reset() #changeed name (state->obs)\n",
    "    done = False\n",
    "    score = 0 \n",
    "    \n",
    "    while not done:\n",
    "        env.render()\n",
    "        action,_ = model.predict(obs) # now we use our own model and '_' to unpack as we get 2 return values \n",
    "        obs, reward, done, info = env.step(action) ##changeed name (n_state->obs)\n",
    "        score+=reward\n",
    "    print('Episode:{} Score:{}'.format(episode, score))\n",
    "# env.close()"
   ]
  },
  {
   "cell_type": "code",
   "execution_count": 11,
   "id": "7ab853e9-3718-414a-938b-85b07e1b8756",
   "metadata": {},
   "outputs": [],
   "source": [
    "env.close()"
   ]
  },
  {
   "cell_type": "code",
   "execution_count": 11,
   "id": "31a30261-5ead-41cb-ba87-9eee41aeedec",
   "metadata": {},
   "outputs": [
    {
     "data": {
      "text/plain": [
       "array([[-0.04432268, -0.01563862, -0.0180911 , -0.04457018]],\n",
       "      dtype=float32)"
      ]
     },
     "execution_count": 11,
     "metadata": {},
     "output_type": "execute_result"
    }
   ],
   "source": [
    "env.reset()"
   ]
  },
  {
   "cell_type": "markdown",
   "id": "31444255-d7d8-44e9-b7ea-004fd6401158",
   "metadata": {},
   "source": [
    "Our rewards"
   ]
  },
  {
   "cell_type": "code",
   "execution_count": 13,
   "id": "9ac042d5-3818-4ecb-b4c1-f64a972b819d",
   "metadata": {},
   "outputs": [
    {
     "data": {
      "text/plain": [
       "(array([[-0.04463546, -0.21049654, -0.01898251,  0.24235038]],\n",
       "       dtype=float32),\n",
       " array([1.], dtype=float32),\n",
       " array([False]),\n",
       " [{}])"
      ]
     },
     "execution_count": 13,
     "metadata": {},
     "output_type": "execute_result"
    }
   ],
   "source": [
    "env.step(action)"
   ]
  },
  {
   "cell_type": "code",
   "execution_count": null,
   "id": "c3c45fd6-c362-435a-93e9-155ac77b23d1",
   "metadata": {},
   "outputs": [],
   "source": []
  },
  {
   "cell_type": "markdown",
   "id": "f409e655-6d72-4e44-9a13-26247eb8b34c",
   "metadata": {},
   "source": [
    "## view logs on tensorboard"
   ]
  },
  {
   "cell_type": "code",
   "execution_count": 12,
   "id": "8ac548d5-710a-4f54-85a2-fc8a23efe5aa",
   "metadata": {
    "tags": []
   },
   "outputs": [
    {
     "data": {
      "text/plain": [
       "'Training\\\\Logs'"
      ]
     },
     "execution_count": 12,
     "metadata": {},
     "output_type": "execute_result"
    }
   ],
   "source": [
    "log_path"
   ]
  },
  {
   "cell_type": "code",
   "execution_count": 13,
   "id": "0a954472-b85e-4f10-98af-017782d75dd5",
   "metadata": {},
   "outputs": [],
   "source": [
    "training_log_path=os.path.join(log_path,'PPO_1')"
   ]
  },
  {
   "cell_type": "code",
   "execution_count": null,
   "id": "31784ccb-24a5-4700-a1ca-3a0cbf0e1d25",
   "metadata": {},
   "outputs": [],
   "source": [
    "!tensorboard --logdir=training_log_path\n",
    "# tensorboard --logdir='Training/Logs/PPO3'\n",
    "# recc- do this shit in another terminal , not here"
   ]
  },
  {
   "cell_type": "code",
   "execution_count": null,
   "id": "f304a450-cae4-43b7-be39-c2b7f910dc99",
   "metadata": {},
   "outputs": [],
   "source": []
  },
  {
   "cell_type": "markdown",
   "id": "8748e24f-0d09-4edd-88fa-0e2f46f2121c",
   "metadata": {},
   "source": [
    "## adding a callback to their training stage"
   ]
  },
  {
   "cell_type": "code",
   "execution_count": null,
   "id": "f8369d1c-6a7e-494b-8e20-ecc475d131a2",
   "metadata": {},
   "outputs": [],
   "source": [
    "from stable_baselines3.common.callbacksl import EvalCallback"
   ]
  },
  {
   "cell_type": "code",
   "execution_count": null,
   "id": "30e75543-0c3e-49fe-9ca1-da6b74f166dc",
   "metadata": {},
   "outputs": [],
   "source": []
  },
  {
   "cell_type": "code",
   "execution_count": null,
   "id": "bbbf7227-136a-46c9-be48-48619499bc43",
   "metadata": {},
   "outputs": [],
   "source": []
  },
  {
   "cell_type": "code",
   "execution_count": null,
   "id": "14557bde-70f6-4403-9698-c81de9e34560",
   "metadata": {},
   "outputs": [],
   "source": []
  },
  {
   "cell_type": "code",
   "execution_count": null,
   "id": "a5eb274a-21a9-4b37-b28c-e51a5c813e1b",
   "metadata": {},
   "outputs": [],
   "source": []
  },
  {
   "cell_type": "code",
   "execution_count": null,
   "id": "4aa8c7c6-61bd-44d9-8d45-457eca930ef2",
   "metadata": {},
   "outputs": [],
   "source": []
  },
  {
   "cell_type": "code",
   "execution_count": null,
   "id": "be1b8ab3-81e0-4379-801b-dcbaa3853630",
   "metadata": {},
   "outputs": [],
   "source": []
  },
  {
   "cell_type": "code",
   "execution_count": null,
   "id": "67d30e0f-5587-4439-8119-a7fe4dad4612",
   "metadata": {},
   "outputs": [],
   "source": []
  },
  {
   "cell_type": "code",
   "execution_count": null,
   "id": "1e3ae876-03b5-4140-8485-d75b170c0629",
   "metadata": {},
   "outputs": [],
   "source": []
  },
  {
   "cell_type": "code",
   "execution_count": null,
   "id": "2e9e8ca6-98f7-4f53-bfdc-53c5d5943684",
   "metadata": {},
   "outputs": [],
   "source": []
  },
  {
   "cell_type": "code",
   "execution_count": null,
   "id": "de375eed-f0dc-4e37-a9fe-9e8a654b15a7",
   "metadata": {},
   "outputs": [],
   "source": []
  },
  {
   "cell_type": "code",
   "execution_count": null,
   "id": "6fd28f92-bdff-43d0-b5de-805a3a77b052",
   "metadata": {},
   "outputs": [],
   "source": []
  },
  {
   "cell_type": "markdown",
   "id": "cc8d7971-8130-42f6-8c34-cb19ceb84262",
   "metadata": {},
   "source": [
    "## changing policies"
   ]
  },
  {
   "cell_type": "code",
   "execution_count": null,
   "id": "b9bb5484-2de8-4223-8a8d-349b51df4e9f",
   "metadata": {},
   "outputs": [],
   "source": []
  },
  {
   "cell_type": "code",
   "execution_count": null,
   "id": "c338bcea-081c-4759-b4c8-51af8bf4b6e8",
   "metadata": {},
   "outputs": [],
   "source": []
  },
  {
   "cell_type": "code",
   "execution_count": null,
   "id": "39a86783-f224-46f3-823c-73c5593968a2",
   "metadata": {},
   "outputs": [],
   "source": []
  },
  {
   "cell_type": "code",
   "execution_count": null,
   "id": "a090c7a9-3a9d-4e8b-b112-a125d124716b",
   "metadata": {},
   "outputs": [],
   "source": []
  },
  {
   "cell_type": "code",
   "execution_count": null,
   "id": "7b98d02a-38eb-4cfd-a129-ce681207bf95",
   "metadata": {},
   "outputs": [],
   "source": []
  },
  {
   "cell_type": "markdown",
   "id": "27515995-a8a8-4060-bd39-3308bea2b54a",
   "metadata": {},
   "source": [
    "## using alternate algo"
   ]
  },
  {
   "cell_type": "code",
   "execution_count": null,
   "id": "c9dd6cfc-941e-4b76-aa83-b2b00b7d9e83",
   "metadata": {},
   "outputs": [],
   "source": []
  },
  {
   "cell_type": "code",
   "execution_count": null,
   "id": "f512fed9-97bc-4c19-803a-98df4b4b7912",
   "metadata": {},
   "outputs": [],
   "source": []
  },
  {
   "cell_type": "code",
   "execution_count": null,
   "id": "009d1ce5-0cc7-4721-8224-fc56fd572c95",
   "metadata": {},
   "outputs": [],
   "source": []
  },
  {
   "cell_type": "code",
   "execution_count": null,
   "id": "0a0306f3-dd6e-4b93-b70f-09e699f8dfd4",
   "metadata": {},
   "outputs": [],
   "source": []
  },
  {
   "cell_type": "code",
   "execution_count": null,
   "id": "fe28fec8-25e4-46bf-8f74-edb9a99207f7",
   "metadata": {},
   "outputs": [],
   "source": []
  }
 ],
 "metadata": {
  "kernelspec": {
   "display_name": "Python 3 (ipykernel)",
   "language": "python",
   "name": "python3"
  },
  "language_info": {
   "codemirror_mode": {
    "name": "ipython",
    "version": 3
   },
   "file_extension": ".py",
   "mimetype": "text/x-python",
   "name": "python",
   "nbconvert_exporter": "python",
   "pygments_lexer": "ipython3",
   "version": "3.10.10"
  }
 },
 "nbformat": 4,
 "nbformat_minor": 5
}
