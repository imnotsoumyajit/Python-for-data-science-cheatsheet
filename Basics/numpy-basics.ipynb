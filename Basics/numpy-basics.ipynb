{
 "cells": [
  {
   "cell_type": "markdown",
   "id": "8040da06",
   "metadata": {},
   "source": [
    "## CRUD"
   ]
  },
  {
   "cell_type": "code",
   "execution_count": 1,
   "id": "30aa04b1",
   "metadata": {},
   "outputs": [
    {
     "name": "stdout",
     "output_type": "stream",
     "text": [
      "Requirement already satisfied: numpy in c:\\users\\soumyajit mondal\\appdata\\local\\programs\\python\\python311\\lib\\site-packages (1.23.5)\n"
     ]
    }
   ],
   "source": [
    "!pip install numpy"
   ]
  },
  {
   "cell_type": "code",
   "execution_count": 5,
   "id": "3d4cc666",
   "metadata": {},
   "outputs": [],
   "source": [
    "import numpy as np"
   ]
  },
  {
   "cell_type": "markdown",
   "id": "d543ff75",
   "metadata": {},
   "source": [
    "#### Create"
   ]
  },
  {
   "cell_type": "code",
   "execution_count": 7,
   "id": "bca67e87",
   "metadata": {},
   "outputs": [],
   "source": [
    "data=np.random.rand(2,3,4)\n",
    "zeros=np.zeros((2,2,2))\n",
    "full=np.full((2,2,2),7)\n",
    "ones=np.ones((2,2,2))"
   ]
  },
  {
   "cell_type": "code",
   "execution_count": 17,
   "id": "710893af",
   "metadata": {},
   "outputs": [
    {
     "data": {
      "text/plain": [
       "array([[[0.37965728, 0.9286767 , 0.00353351, 0.73963193],\n",
       "        [0.88862196, 0.31950049, 0.80529134, 0.57729117],\n",
       "        [0.95013409, 0.29709475, 0.55805467, 0.97057278]],\n",
       "\n",
       "       [[0.75555686, 0.80369452, 0.15169927, 0.71862497],\n",
       "        [0.29380016, 0.19307756, 0.72055911, 0.83558277],\n",
       "        [0.79562513, 0.29845804, 0.0536646 , 0.07342223]]])"
      ]
     },
     "execution_count": 17,
     "metadata": {},
     "output_type": "execute_result"
    }
   ],
   "source": [
    "data"
   ]
  },
  {
   "cell_type": "code",
   "execution_count": 9,
   "id": "2c085722",
   "metadata": {},
   "outputs": [
    {
     "data": {
      "text/plain": [
       "array([[[0., 0.],\n",
       "        [0., 0.]],\n",
       "\n",
       "       [[0., 0.],\n",
       "        [0., 0.]]])"
      ]
     },
     "execution_count": 9,
     "metadata": {},
     "output_type": "execute_result"
    }
   ],
   "source": [
    "zeros"
   ]
  },
  {
   "cell_type": "code",
   "execution_count": 10,
   "id": "343efd5a",
   "metadata": {},
   "outputs": [
    {
     "data": {
      "text/plain": [
       "array([[[7, 7],\n",
       "        [7, 7]],\n",
       "\n",
       "       [[7, 7],\n",
       "        [7, 7]]])"
      ]
     },
     "execution_count": 10,
     "metadata": {},
     "output_type": "execute_result"
    }
   ],
   "source": [
    "full"
   ]
  },
  {
   "cell_type": "code",
   "execution_count": 11,
   "id": "0150c30f",
   "metadata": {},
   "outputs": [
    {
     "data": {
      "text/plain": [
       "array([[[1., 1.],\n",
       "        [1., 1.]],\n",
       "\n",
       "       [[1., 1.],\n",
       "        [1., 1.]]])"
      ]
     },
     "execution_count": 11,
     "metadata": {},
     "output_type": "execute_result"
    }
   ],
   "source": [
    "ones"
   ]
  },
  {
   "cell_type": "code",
   "execution_count": 15,
   "id": "92b99ada",
   "metadata": {},
   "outputs": [],
   "source": [
    "arr=np.array([[1,2,3,4],[1,2,3,4]])"
   ]
  },
  {
   "cell_type": "code",
   "execution_count": 16,
   "id": "fd512958",
   "metadata": {},
   "outputs": [
    {
     "data": {
      "text/plain": [
       "array([[1, 2, 3, 4],\n",
       "       [1, 2, 3, 4]])"
      ]
     },
     "execution_count": 16,
     "metadata": {},
     "output_type": "execute_result"
    }
   ],
   "source": [
    "arr"
   ]
  },
  {
   "cell_type": "markdown",
   "id": "b864395f",
   "metadata": {},
   "source": [
    "#### Read"
   ]
  },
  {
   "cell_type": "code",
   "execution_count": 18,
   "id": "8d8bc98e",
   "metadata": {},
   "outputs": [],
   "source": [
    "# Attributes\n",
    "shape=data.shape\n",
    "size=data.size\n",
    "types=data.dtype"
   ]
  },
  {
   "cell_type": "code",
   "execution_count": 19,
   "id": "a4c39ac4",
   "metadata": {},
   "outputs": [
    {
     "data": {
      "text/plain": [
       "(2, 3, 4)"
      ]
     },
     "execution_count": 19,
     "metadata": {},
     "output_type": "execute_result"
    }
   ],
   "source": [
    "shape"
   ]
  },
  {
   "cell_type": "code",
   "execution_count": 20,
   "id": "2cb0e24d",
   "metadata": {},
   "outputs": [
    {
     "data": {
      "text/plain": [
       "24"
      ]
     },
     "execution_count": 20,
     "metadata": {},
     "output_type": "execute_result"
    }
   ],
   "source": [
    "size"
   ]
  },
  {
   "cell_type": "code",
   "execution_count": 21,
   "id": "7f7a287c",
   "metadata": {},
   "outputs": [
    {
     "data": {
      "text/plain": [
       "dtype('float64')"
      ]
     },
     "execution_count": 21,
     "metadata": {},
     "output_type": "execute_result"
    }
   ],
   "source": [
    "types"
   ]
  },
  {
   "cell_type": "code",
   "execution_count": 22,
   "id": "0d39a270",
   "metadata": {},
   "outputs": [],
   "source": [
    "# slicing\n",
    "arr=data[0]\n",
    "slicer=data[0:2]\n",
    "reverse=data[-1]\n",
    "singleval=data[0][0][0]"
   ]
  },
  {
   "cell_type": "code",
   "execution_count": 23,
   "id": "50f361c6",
   "metadata": {},
   "outputs": [
    {
     "data": {
      "text/plain": [
       "array([[0.37965728, 0.9286767 , 0.00353351, 0.73963193],\n",
       "       [0.88862196, 0.31950049, 0.80529134, 0.57729117],\n",
       "       [0.95013409, 0.29709475, 0.55805467, 0.97057278]])"
      ]
     },
     "execution_count": 23,
     "metadata": {},
     "output_type": "execute_result"
    }
   ],
   "source": [
    "arr"
   ]
  },
  {
   "cell_type": "code",
   "execution_count": 24,
   "id": "9b872d1d",
   "metadata": {},
   "outputs": [
    {
     "data": {
      "text/plain": [
       "array([[[0.37965728, 0.9286767 , 0.00353351, 0.73963193],\n",
       "        [0.88862196, 0.31950049, 0.80529134, 0.57729117],\n",
       "        [0.95013409, 0.29709475, 0.55805467, 0.97057278]],\n",
       "\n",
       "       [[0.75555686, 0.80369452, 0.15169927, 0.71862497],\n",
       "        [0.29380016, 0.19307756, 0.72055911, 0.83558277],\n",
       "        [0.79562513, 0.29845804, 0.0536646 , 0.07342223]]])"
      ]
     },
     "execution_count": 24,
     "metadata": {},
     "output_type": "execute_result"
    }
   ],
   "source": [
    "slicer"
   ]
  },
  {
   "cell_type": "code",
   "execution_count": 27,
   "id": "7955e5bf",
   "metadata": {},
   "outputs": [
    {
     "data": {
      "text/plain": [
       "array([[0.75555686, 0.80369452, 0.15169927, 0.71862497],\n",
       "       [0.29380016, 0.19307756, 0.72055911, 0.83558277],\n",
       "       [0.79562513, 0.29845804, 0.0536646 , 0.07342223]])"
      ]
     },
     "execution_count": 27,
     "metadata": {},
     "output_type": "execute_result"
    }
   ],
   "source": [
    "reverse\n",
    "# getting the last array"
   ]
  },
  {
   "cell_type": "code",
   "execution_count": 30,
   "id": "9655a361",
   "metadata": {},
   "outputs": [
    {
     "data": {
      "text/plain": [
       "0.37965727982968367"
      ]
     },
     "execution_count": 30,
     "metadata": {},
     "output_type": "execute_result"
    }
   ],
   "source": [
    "singleval \n",
    "# getting the first data"
   ]
  },
  {
   "cell_type": "code",
   "execution_count": 28,
   "id": "0bdd8a85",
   "metadata": {},
   "outputs": [
    {
     "data": {
      "text/plain": [
       "array([[[0.37965728, 0.9286767 , 0.00353351, 0.73963193],\n",
       "        [0.88862196, 0.31950049, 0.80529134, 0.57729117],\n",
       "        [0.95013409, 0.29709475, 0.55805467, 0.97057278]],\n",
       "\n",
       "       [[0.75555686, 0.80369452, 0.15169927, 0.71862497],\n",
       "        [0.29380016, 0.19307756, 0.72055911, 0.83558277],\n",
       "        [0.79562513, 0.29845804, 0.0536646 , 0.07342223]]])"
      ]
     },
     "execution_count": 28,
     "metadata": {},
     "output_type": "execute_result"
    }
   ],
   "source": [
    "data"
   ]
  },
  {
   "cell_type": "markdown",
   "id": "b68ec73d",
   "metadata": {},
   "source": [
    "#### Update"
   ]
  },
  {
   "cell_type": "code",
   "execution_count": 31,
   "id": "30b1c682",
   "metadata": {},
   "outputs": [],
   "source": [
    "list1=np.random.rand(10)\n",
    "list2=np.random.rand(10)"
   ]
  },
  {
   "cell_type": "code",
   "execution_count": 32,
   "id": "da1c2171",
   "metadata": {},
   "outputs": [
    {
     "data": {
      "text/plain": [
       "array([0.5492561 , 0.61155157, 0.95827289, 0.26900455, 0.21524535,\n",
       "       0.49038525, 0.769094  , 0.98363562, 0.96309916, 0.47873109])"
      ]
     },
     "execution_count": 32,
     "metadata": {},
     "output_type": "execute_result"
    }
   ],
   "source": [
    "list1\n",
    "# it has 10 values"
   ]
  },
  {
   "cell_type": "code",
   "execution_count": 34,
   "id": "84bc990d",
   "metadata": {},
   "outputs": [],
   "source": [
    "# Basic math\n",
    "add=np.add(list1,list2)\n",
    "sub=np.subtract(list1,list2)\n",
    "mult=np.multiply(list1,list2)\n",
    "div=np.divide(list1,list2)\n",
    "dot=np.dot(list1,list2)"
   ]
  },
  {
   "cell_type": "code",
   "execution_count": 35,
   "id": "e01160e8",
   "metadata": {},
   "outputs": [
    {
     "data": {
      "text/plain": [
       "2.538452603566237"
      ]
     },
     "execution_count": 35,
     "metadata": {},
     "output_type": "execute_result"
    }
   ],
   "source": [
    "dot"
   ]
  },
  {
   "cell_type": "markdown",
   "id": "6969379b",
   "metadata": {},
   "source": [
    "### statical functions\n",
    "*like faaling from sap : SAPLEMM*"
   ]
  },
  {
   "cell_type": "code",
   "execution_count": 36,
   "id": "f4d36092",
   "metadata": {},
   "outputs": [],
   "source": [
    "sqrt=np.sqrt(34)\n",
    "ab=np.abs(-7)\n",
    "power=np.power(3,4)\n",
    "log=np.log(34)\n",
    "exp=np.exp([2,3])\n",
    "mins=np.min(list1)\n",
    "mazs=np.max(list1)"
   ]
  },
  {
   "cell_type": "code",
   "execution_count": 37,
   "id": "7389e96d",
   "metadata": {},
   "outputs": [
    {
     "data": {
      "text/plain": [
       "array([[[7.00000000e+02, 9.28676703e-01, 3.53350980e-03, 7.39631933e-01],\n",
       "        [8.88621964e-01, 3.19500487e-01, 8.05291344e-01, 5.77291174e-01],\n",
       "        [9.50134091e-01, 2.97094754e-01, 5.58054672e-01, 9.70572779e-01]],\n",
       "\n",
       "       [[7.55556861e-01, 8.03694520e-01, 1.51699270e-01, 7.18624970e-01],\n",
       "        [2.93800159e-01, 1.93077558e-01, 7.20559110e-01, 8.35582769e-01],\n",
       "        [7.95625131e-01, 2.98458041e-01, 5.36646034e-02, 7.34222347e-02]]])"
      ]
     },
     "execution_count": 37,
     "metadata": {},
     "output_type": "execute_result"
    }
   ],
   "source": [
    "data[0,0,0]=700\n",
    "data"
   ]
  },
  {
   "cell_type": "code",
   "execution_count": 38,
   "id": "9c2811c8",
   "metadata": {},
   "outputs": [
    {
     "data": {
      "text/plain": [
       "array([[[3.53350980e-03, 7.39631933e-01, 9.28676703e-01, 7.00000000e+02],\n",
       "        [3.19500487e-01, 5.77291174e-01, 8.05291344e-01, 8.88621964e-01],\n",
       "        [2.97094754e-01, 5.58054672e-01, 9.50134091e-01, 9.70572779e-01]],\n",
       "\n",
       "       [[1.51699270e-01, 7.18624970e-01, 7.55556861e-01, 8.03694520e-01],\n",
       "        [1.93077558e-01, 2.93800159e-01, 7.20559110e-01, 8.35582769e-01],\n",
       "        [5.36646034e-02, 7.34222347e-02, 2.98458041e-01, 7.95625131e-01]]])"
      ]
     },
     "execution_count": 38,
     "metadata": {},
     "output_type": "execute_result"
    }
   ],
   "source": [
    "# sort data\n",
    "data.sort()\n",
    "data"
   ]
  },
  {
   "cell_type": "code",
   "execution_count": 39,
   "id": "a5e0ca1f",
   "metadata": {},
   "outputs": [
    {
     "name": "stdout",
     "output_type": "stream",
     "text": [
      "(2, 3, 4)\n"
     ]
    }
   ],
   "source": [
    "print(data.shape)"
   ]
  },
  {
   "cell_type": "code",
   "execution_count": 40,
   "id": "1f053250",
   "metadata": {},
   "outputs": [
    {
     "name": "stdout",
     "output_type": "stream",
     "text": [
      "(2, 2, 6)\n"
     ]
    }
   ],
   "source": [
    "data=data.reshape(2,2,-1)\n",
    "print(data.shape)"
   ]
  },
  {
   "cell_type": "code",
   "execution_count": 47,
   "id": "ba2517c7",
   "metadata": {},
   "outputs": [
    {
     "name": "stdout",
     "output_type": "stream",
     "text": [
      "[0. 0. 0. 0. 0. 0. 0. 0.]\n"
     ]
    }
   ],
   "source": [
    "# append or insert new values\n",
    "zeros=np.zeros((8))\n",
    "print(zeros)"
   ]
  },
  {
   "cell_type": "code",
   "execution_count": 48,
   "id": "b71f3273",
   "metadata": {},
   "outputs": [
    {
     "name": "stdout",
     "output_type": "stream",
     "text": [
      "[0. 0. 0. 0. 0. 0. 0. 0. 3. 4.]\n"
     ]
    }
   ],
   "source": [
    "zeros=np.append(zeros,[3,4])\n",
    "print(zeros)"
   ]
  },
  {
   "cell_type": "code",
   "execution_count": 49,
   "id": "a648ebb6",
   "metadata": {},
   "outputs": [
    {
     "name": "stdout",
     "output_type": "stream",
     "text": [
      "[0. 0. 5. 0. 0. 0. 0. 0. 0. 3. 4.]\n"
     ]
    }
   ],
   "source": [
    "# insert values to a spcific place\n",
    "zeros=np.insert(zeros,2,5)\n",
    "print(zeros)"
   ]
  },
  {
   "cell_type": "markdown",
   "id": "8ca11838",
   "metadata": {},
   "source": [
    "#### Delete"
   ]
  },
  {
   "cell_type": "code",
   "execution_count": 50,
   "id": "51edef48",
   "metadata": {},
   "outputs": [
    {
     "data": {
      "text/plain": [
       "array([[[3.53350980e-03, 7.39631933e-01, 9.28676703e-01, 7.00000000e+02,\n",
       "         3.19500487e-01, 5.77291174e-01],\n",
       "        [8.05291344e-01, 8.88621964e-01, 2.97094754e-01, 5.58054672e-01,\n",
       "         9.50134091e-01, 9.70572779e-01]],\n",
       "\n",
       "       [[1.51699270e-01, 7.18624970e-01, 7.55556861e-01, 8.03694520e-01,\n",
       "         1.93077558e-01, 2.93800159e-01],\n",
       "        [7.20559110e-01, 8.35582769e-01, 5.36646034e-02, 7.34222347e-02,\n",
       "         2.98458041e-01, 7.95625131e-01]]])"
      ]
     },
     "execution_count": 50,
     "metadata": {},
     "output_type": "execute_result"
    }
   ],
   "source": [
    "data"
   ]
  },
  {
   "cell_type": "code",
   "execution_count": 52,
   "id": "8b92282e",
   "metadata": {},
   "outputs": [
    {
     "data": {
      "text/plain": [
       "array([[[0.80529134, 0.88862196, 0.29709475, 0.55805467, 0.95013409,\n",
       "         0.97057278]],\n",
       "\n",
       "       [[0.72055911, 0.83558277, 0.0536646 , 0.07342223, 0.29845804,\n",
       "         0.79562513]]])"
      ]
     },
     "execution_count": 52,
     "metadata": {},
     "output_type": "execute_result"
    }
   ],
   "source": [
    "# delete 1st of all\n",
    "# it helps to delete specific segments of an array\n",
    "np.delete(data,0,axis=1)"
   ]
  },
  {
   "cell_type": "code",
   "execution_count": 53,
   "id": "a423fb96",
   "metadata": {},
   "outputs": [],
   "source": [
    "# to save an array\n",
    "np.save(\"new array\",data)"
   ]
  },
  {
   "cell_type": "code",
   "execution_count": 54,
   "id": "28283628",
   "metadata": {},
   "outputs": [],
   "source": [
    "# load the array\n",
    "load_arr=np.load(\"new array.npy\")"
   ]
  },
  {
   "cell_type": "code",
   "execution_count": 55,
   "id": "f0e05a76",
   "metadata": {
    "collapsed": true
   },
   "outputs": [
    {
     "data": {
      "text/plain": [
       "array([[[3.53350980e-03, 7.39631933e-01, 9.28676703e-01, 7.00000000e+02,\n",
       "         3.19500487e-01, 5.77291174e-01],\n",
       "        [8.05291344e-01, 8.88621964e-01, 2.97094754e-01, 5.58054672e-01,\n",
       "         9.50134091e-01, 9.70572779e-01]],\n",
       "\n",
       "       [[1.51699270e-01, 7.18624970e-01, 7.55556861e-01, 8.03694520e-01,\n",
       "         1.93077558e-01, 2.93800159e-01],\n",
       "        [7.20559110e-01, 8.35582769e-01, 5.36646034e-02, 7.34222347e-02,\n",
       "         2.98458041e-01, 7.95625131e-01]]])"
      ]
     },
     "execution_count": 55,
     "metadata": {},
     "output_type": "execute_result"
    }
   ],
   "source": [
    "load_arr"
   ]
  },
  {
   "cell_type": "code",
   "execution_count": null,
   "id": "6677020f",
   "metadata": {},
   "outputs": [],
   "source": []
  },
  {
   "cell_type": "code",
   "execution_count": null,
   "id": "334101c5",
   "metadata": {},
   "outputs": [],
   "source": []
  }
 ],
 "metadata": {
  "kernelspec": {
   "display_name": "Python 3 (ipykernel)",
   "language": "python",
   "name": "python3"
  },
  "language_info": {
   "codemirror_mode": {
    "name": "ipython",
    "version": 3
   },
   "file_extension": ".py",
   "mimetype": "text/x-python",
   "name": "python",
   "nbconvert_exporter": "python",
   "pygments_lexer": "ipython3",
   "version": "3.11.1"
  }
 },
 "nbformat": 4,
 "nbformat_minor": 5
}
