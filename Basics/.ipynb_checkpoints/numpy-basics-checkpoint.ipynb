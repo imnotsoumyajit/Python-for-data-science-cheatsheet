{
 "cells": [
  {
   "cell_type": "markdown",
   "id": "8040da06",
   "metadata": {},
   "source": [
    "## CRUD"
   ]
  },
  {
   "cell_type": "code",
   "execution_count": 1,
   "id": "30aa04b1",
   "metadata": {},
   "outputs": [
    {
     "name": "stdout",
     "output_type": "stream",
     "text": [
      "Requirement already satisfied: numpy in c:\\users\\soumyajit mondal\\appdata\\local\\programs\\python\\python311\\lib\\site-packages (1.23.5)\n"
     ]
    }
   ],
   "source": [
    "!pip install numpy"
   ]
  },
  {
   "cell_type": "code",
   "execution_count": 5,
   "id": "3d4cc666",
   "metadata": {},
   "outputs": [],
   "source": [
    "import numpy as np"
   ]
  },
  {
   "cell_type": "markdown",
   "id": "d543ff75",
   "metadata": {},
   "source": [
    "#### Create"
   ]
  },
  {
   "cell_type": "code",
   "execution_count": 7,
   "id": "bca67e87",
   "metadata": {},
   "outputs": [],
   "source": [
    "data=np.random.rand(2,3,4)\n",
    "zeros=np.zeros((2,2,2))\n",
    "full=np.full((2,2,2),7)\n",
    "ones=np.ones((2,2,2))"
   ]
  },
  {
   "cell_type": "code",
   "execution_count": 17,
   "id": "710893af",
   "metadata": {},
   "outputs": [
    {
     "data": {
      "text/plain": [
       "array([[[0.37965728, 0.9286767 , 0.00353351, 0.73963193],\n",
       "        [0.88862196, 0.31950049, 0.80529134, 0.57729117],\n",
       "        [0.95013409, 0.29709475, 0.55805467, 0.97057278]],\n",
       "\n",
       "       [[0.75555686, 0.80369452, 0.15169927, 0.71862497],\n",
       "        [0.29380016, 0.19307756, 0.72055911, 0.83558277],\n",
       "        [0.79562513, 0.29845804, 0.0536646 , 0.07342223]]])"
      ]
     },
     "execution_count": 17,
     "metadata": {},
     "output_type": "execute_result"
    }
   ],
   "source": [
    "data"
   ]
  },
  {
   "cell_type": "code",
   "execution_count": 9,
   "id": "2c085722",
   "metadata": {},
   "outputs": [
    {
     "data": {
      "text/plain": [
       "array([[[0., 0.],\n",
       "        [0., 0.]],\n",
       "\n",
       "       [[0., 0.],\n",
       "        [0., 0.]]])"
      ]
     },
     "execution_count": 9,
     "metadata": {},
     "output_type": "execute_result"
    }
   ],
   "source": [
    "zeros"
   ]
  },
  {
   "cell_type": "code",
   "execution_count": 10,
   "id": "343efd5a",
   "metadata": {},
   "outputs": [
    {
     "data": {
      "text/plain": [
       "array([[[7, 7],\n",
       "        [7, 7]],\n",
       "\n",
       "       [[7, 7],\n",
       "        [7, 7]]])"
      ]
     },
     "execution_count": 10,
     "metadata": {},
     "output_type": "execute_result"
    }
   ],
   "source": [
    "full"
   ]
  },
  {
   "cell_type": "code",
   "execution_count": 11,
   "id": "0150c30f",
   "metadata": {},
   "outputs": [
    {
     "data": {
      "text/plain": [
       "array([[[1., 1.],\n",
       "        [1., 1.]],\n",
       "\n",
       "       [[1., 1.],\n",
       "        [1., 1.]]])"
      ]
     },
     "execution_count": 11,
     "metadata": {},
     "output_type": "execute_result"
    }
   ],
   "source": [
    "ones"
   ]
  },
  {
   "cell_type": "code",
   "execution_count": 15,
   "id": "92b99ada",
   "metadata": {},
   "outputs": [],
   "source": [
    "arr=np.array([[1,2,3,4],[1,2,3,4]])"
   ]
  },
  {
   "cell_type": "code",
   "execution_count": 16,
   "id": "fd512958",
   "metadata": {},
   "outputs": [
    {
     "data": {
      "text/plain": [
       "array([[1, 2, 3, 4],\n",
       "       [1, 2, 3, 4]])"
      ]
     },
     "execution_count": 16,
     "metadata": {},
     "output_type": "execute_result"
    }
   ],
   "source": [
    "arr"
   ]
  },
  {
   "cell_type": "markdown",
   "id": "b864395f",
   "metadata": {},
   "source": [
    "#### Read"
   ]
  },
  {
   "cell_type": "code",
   "execution_count": 18,
   "id": "8d8bc98e",
   "metadata": {},
   "outputs": [],
   "source": [
    "# Attributes\n",
    "shape=data.shape\n",
    "size=data.size\n",
    "types=data.dtype"
   ]
  },
  {
   "cell_type": "code",
   "execution_count": 19,
   "id": "a4c39ac4",
   "metadata": {},
   "outputs": [
    {
     "data": {
      "text/plain": [
       "(2, 3, 4)"
      ]
     },
     "execution_count": 19,
     "metadata": {},
     "output_type": "execute_result"
    }
   ],
   "source": [
    "shape"
   ]
  },
  {
   "cell_type": "code",
   "execution_count": 20,
   "id": "2cb0e24d",
   "metadata": {},
   "outputs": [
    {
     "data": {
      "text/plain": [
       "24"
      ]
     },
     "execution_count": 20,
     "metadata": {},
     "output_type": "execute_result"
    }
   ],
   "source": [
    "size"
   ]
  },
  {
   "cell_type": "code",
   "execution_count": 21,
   "id": "7f7a287c",
   "metadata": {},
   "outputs": [
    {
     "data": {
      "text/plain": [
       "dtype('float64')"
      ]
     },
     "execution_count": 21,
     "metadata": {},
     "output_type": "execute_result"
    }
   ],
   "source": [
    "types"
   ]
  },
  {
   "cell_type": "code",
   "execution_count": 22,
   "id": "0d39a270",
   "metadata": {},
   "outputs": [],
   "source": [
    "# slicing\n",
    "arr=data[0]\n",
    "slicer=data[0:2]\n",
    "reverse=data[-1]\n",
    "singleval=data[0][0][0]"
   ]
  },
  {
   "cell_type": "code",
   "execution_count": 23,
   "id": "50f361c6",
   "metadata": {},
   "outputs": [
    {
     "data": {
      "text/plain": [
       "array([[0.37965728, 0.9286767 , 0.00353351, 0.73963193],\n",
       "       [0.88862196, 0.31950049, 0.80529134, 0.57729117],\n",
       "       [0.95013409, 0.29709475, 0.55805467, 0.97057278]])"
      ]
     },
     "execution_count": 23,
     "metadata": {},
     "output_type": "execute_result"
    }
   ],
   "source": [
    "arr"
   ]
  },
  {
   "cell_type": "code",
   "execution_count": 24,
   "id": "9b872d1d",
   "metadata": {},
   "outputs": [
    {
     "data": {
      "text/plain": [
       "array([[[0.37965728, 0.9286767 , 0.00353351, 0.73963193],\n",
       "        [0.88862196, 0.31950049, 0.80529134, 0.57729117],\n",
       "        [0.95013409, 0.29709475, 0.55805467, 0.97057278]],\n",
       "\n",
       "       [[0.75555686, 0.80369452, 0.15169927, 0.71862497],\n",
       "        [0.29380016, 0.19307756, 0.72055911, 0.83558277],\n",
       "        [0.79562513, 0.29845804, 0.0536646 , 0.07342223]]])"
      ]
     },
     "execution_count": 24,
     "metadata": {},
     "output_type": "execute_result"
    }
   ],
   "source": [
    "slicer"
   ]
  },
  {
   "cell_type": "code",
   "execution_count": 27,
   "id": "7955e5bf",
   "metadata": {},
   "outputs": [
    {
     "data": {
      "text/plain": [
       "array([[0.75555686, 0.80369452, 0.15169927, 0.71862497],\n",
       "       [0.29380016, 0.19307756, 0.72055911, 0.83558277],\n",
       "       [0.79562513, 0.29845804, 0.0536646 , 0.07342223]])"
      ]
     },
     "execution_count": 27,
     "metadata": {},
     "output_type": "execute_result"
    }
   ],
   "source": [
    "reverse\n",
    "# getting the last array"
   ]
  },
  {
   "cell_type": "code",
   "execution_count": 30,
   "id": "9655a361",
   "metadata": {},
   "outputs": [
    {
     "data": {
      "text/plain": [
       "0.37965727982968367"
      ]
     },
     "execution_count": 30,
     "metadata": {},
     "output_type": "execute_result"
    }
   ],
   "source": [
    "singleval \n",
    "# getting the first data"
   ]
  },
  {
   "cell_type": "code",
   "execution_count": 28,
   "id": "0bdd8a85",
   "metadata": {},
   "outputs": [
    {
     "data": {
      "text/plain": [
       "array([[[0.37965728, 0.9286767 , 0.00353351, 0.73963193],\n",
       "        [0.88862196, 0.31950049, 0.80529134, 0.57729117],\n",
       "        [0.95013409, 0.29709475, 0.55805467, 0.97057278]],\n",
       "\n",
       "       [[0.75555686, 0.80369452, 0.15169927, 0.71862497],\n",
       "        [0.29380016, 0.19307756, 0.72055911, 0.83558277],\n",
       "        [0.79562513, 0.29845804, 0.0536646 , 0.07342223]]])"
      ]
     },
     "execution_count": 28,
     "metadata": {},
     "output_type": "execute_result"
    }
   ],
   "source": [
    "data"
   ]
  },
  {
   "cell_type": "markdown",
   "id": "b68ec73d",
   "metadata": {},
   "source": [
    "#### Update"
   ]
  },
  {
   "cell_type": "code",
   "execution_count": 31,
   "id": "30b1c682",
   "metadata": {},
   "outputs": [],
   "source": [
    "list1=np.random.rand(10)\n",
    "list2=np.random.rand(10)"
   ]
  },
  {
   "cell_type": "code",
   "execution_count": 32,
   "id": "da1c2171",
   "metadata": {},
   "outputs": [
    {
     "data": {
      "text/plain": [
       "array([0.5492561 , 0.61155157, 0.95827289, 0.26900455, 0.21524535,\n",
       "       0.49038525, 0.769094  , 0.98363562, 0.96309916, 0.47873109])"
      ]
     },
     "execution_count": 32,
     "metadata": {},
     "output_type": "execute_result"
    }
   ],
   "source": [
    "list1\n",
    "# it has 10 values"
   ]
  },
  {
   "cell_type": "code",
   "execution_count": null,
   "id": "84bc990d",
   "metadata": {},
   "outputs": [],
   "source": [
    "# Basic math\n",
    "add=np.add(list1,list2)"
   ]
  },
  {
   "cell_type": "code",
   "execution_count": null,
   "id": "e01160e8",
   "metadata": {},
   "outputs": [],
   "source": []
  },
  {
   "cell_type": "code",
   "execution_count": null,
   "id": "8b4bd878",
   "metadata": {},
   "outputs": [],
   "source": []
  },
  {
   "cell_type": "code",
   "execution_count": null,
   "id": "f4d36092",
   "metadata": {},
   "outputs": [],
   "source": []
  },
  {
   "cell_type": "code",
   "execution_count": null,
   "id": "7389e96d",
   "metadata": {},
   "outputs": [],
   "source": []
  },
  {
   "cell_type": "markdown",
   "id": "8ca11838",
   "metadata": {},
   "source": [
    "#### Delete"
   ]
  },
  {
   "cell_type": "code",
   "execution_count": null,
   "id": "51edef48",
   "metadata": {},
   "outputs": [],
   "source": []
  },
  {
   "cell_type": "code",
   "execution_count": null,
   "id": "8b92282e",
   "metadata": {},
   "outputs": [],
   "source": []
  },
  {
   "cell_type": "code",
   "execution_count": null,
   "id": "a423fb96",
   "metadata": {},
   "outputs": [],
   "source": []
  },
  {
   "cell_type": "code",
   "execution_count": null,
   "id": "28283628",
   "metadata": {},
   "outputs": [],
   "source": []
  },
  {
   "cell_type": "code",
   "execution_count": null,
   "id": "f0e05a76",
   "metadata": {},
   "outputs": [],
   "source": []
  },
  {
   "cell_type": "code",
   "execution_count": null,
   "id": "6677020f",
   "metadata": {},
   "outputs": [],
   "source": []
  },
  {
   "cell_type": "code",
   "execution_count": null,
   "id": "334101c5",
   "metadata": {},
   "outputs": [],
   "source": []
  }
 ],
 "metadata": {
  "kernelspec": {
   "display_name": "Python 3 (ipykernel)",
   "language": "python",
   "name": "python3"
  },
  "language_info": {
   "codemirror_mode": {
    "name": "ipython",
    "version": 3
   },
   "file_extension": ".py",
   "mimetype": "text/x-python",
   "name": "python",
   "nbconvert_exporter": "python",
   "pygments_lexer": "ipython3",
   "version": "3.11.1"
  }
 },
 "nbformat": 4,
 "nbformat_minor": 5
}
